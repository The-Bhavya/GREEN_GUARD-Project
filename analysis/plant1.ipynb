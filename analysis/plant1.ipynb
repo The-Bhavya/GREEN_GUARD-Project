{
 "cells": [
  {
   "cell_type": "code",
   "execution_count": 48,
   "id": "a4d67957",
   "metadata": {},
   "outputs": [],
   "source": [
    "import pandas as pd\n",
    "import numpy as np\n",
    "from sklearn.model_selection import train_test_split\n",
    "from sklearn.ensemble import RandomForestRegressor\n",
    "from sklearn.metrics import mean_squared_error, r2_score"
   ]
  },
  {
   "cell_type": "code",
   "execution_count": 49,
   "id": "fd471780",
   "metadata": {},
   "outputs": [],
   "source": [
    "plant_1_gen = pd.read_csv('Plant_1_Generation_Data.csv')\n",
    "plant_2_gen = pd.read_csv('Plant_2_Generation_Data.csv')\n",
    "plant_1_weather = pd.read_csv('Plant_1_Weather_Sensor_Data.csv')\n",
    "plant_2_weather = pd.read_csv('Plant_2_Weather_Sensor_Data.csv')"
   ]
  },
  {
   "cell_type": "code",
   "execution_count": 50,
   "id": "1dfa1ec3",
   "metadata": {},
   "outputs": [],
   "source": [
    "# Rebuild combined_data with correct per-plant-time aggregation and merge\n",
    "gen_all = pd.concat([plant_1_gen, plant_2_gen], ignore_index=True)\n",
    "weather_all = pd.concat([plant_1_weather, plant_2_weather], ignore_index=True)\n",
    "\n",
    "# Robust datetime parsing for mixed formats without warnings\n",
    "# Try ISO with seconds, ISO without seconds, then day-first format, then a final general day-first parse\n",
    "\n",
    "def parse_mixed_datetime(series: pd.Series) -> pd.Series:\n",
    "    parsed = pd.to_datetime(series, format='%Y-%m-%d %H:%M:%S', errors='coerce')\n",
    "    mask = parsed.isna()\n",
    "    if mask.any():\n",
    "        parsed2 = pd.to_datetime(series[mask], format='%Y-%m-%d %H:%M', errors='coerce')\n",
    "        parsed.loc[mask] = parsed2\n",
    "    mask = parsed.isna()\n",
    "    if mask.any():\n",
    "        parsed3 = pd.to_datetime(series[mask], format='%d-%m-%Y %H:%M', errors='coerce', dayfirst=True)\n",
    "        parsed.loc[mask] = parsed3\n",
    "    mask = parsed.isna()\n",
    "    if mask.any():\n",
    "        parsed4 = pd.to_datetime(series[mask], errors='coerce', dayfirst=True)\n",
    "        parsed.loc[mask] = parsed4\n",
    "    if parsed.isna().any():\n",
    "        num_bad = int(parsed.isna().sum())\n",
    "        print(f\"Warning: {num_bad} DATE_TIME values could not be parsed and will be dropped.\")\n",
    "    return parsed\n",
    "\n",
    "# Ensure datetime type before grouping/merging\n",
    "gen_all['DATE_TIME'] = parse_mixed_datetime(gen_all['DATE_TIME'])\n",
    "weather_all['DATE_TIME'] = parse_mixed_datetime(weather_all['DATE_TIME'])\n",
    "\n",
    "# Drop any rows with unparsed timestamps before grouping\n",
    "gen_all = gen_all.dropna(subset=['DATE_TIME'])\n",
    "weather_all = weather_all.dropna(subset=['DATE_TIME'])\n",
    "\n",
    "gen_agg = gen_all.groupby(['PLANT_ID','DATE_TIME'], as_index=False).agg({\n",
    "    'DC_POWER': 'sum',\n",
    "    'AC_POWER': 'sum',\n",
    "    'DAILY_YIELD': 'max',\n",
    "    'TOTAL_YIELD': 'max'\n",
    "})\n",
    "\n",
    "weather_agg = weather_all.groupby(['PLANT_ID','DATE_TIME'], as_index=False).agg({\n",
    "    'AMBIENT_TEMPERATURE': 'mean',\n",
    "    'MODULE_TEMPERATURE': 'mean',\n",
    "    'IRRADIATION': 'mean'\n",
    "})\n",
    "\n",
    "combined_data = pd.merge(gen_agg, weather_agg, on=['PLANT_ID','DATE_TIME'], how='inner')\n"
   ]
  },
  {
   "cell_type": "code",
   "execution_count": 51,
   "id": "0327e52e",
   "metadata": {},
   "outputs": [],
   "source": [
    "# Basic feature engineering\n",
    "combined_data['hour'] = combined_data['DATE_TIME'].dt.hour\n",
    "combined_data['day_of_week'] = combined_data['DATE_TIME'].dt.dayofweek\n",
    "combined_data['month'] = combined_data['DATE_TIME'].dt.month\n",
    "\n",
    "# Simple encoding for PLANT_ID (assuming values like 1, 2)\n",
    "# If PLANT_ID is non-numeric, convert to category codes\n",
    "if not np.issubdtype(combined_data['PLANT_ID'].dtype, np.number):\n",
    "    combined_data['PLANT_ID'] = combined_data['PLANT_ID'].astype('category').cat.codes\n"
   ]
  },
  {
   "cell_type": "code",
   "execution_count": 52,
   "id": "1498fdde",
   "metadata": {},
   "outputs": [],
   "source": [
    "# Filter out night-time rows for training (keeps evaluation consistent if using same split)\n",
    "train_data = combined_data[combined_data['IRRADIATION'] > 0].copy()\n",
    "\n",
    "feature_cols = ['AMBIENT_TEMPERATURE', 'MODULE_TEMPERATURE', 'IRRADIATION',\n",
    "                'hour', 'day_of_week', 'month', 'PLANT_ID']\n",
    "X = train_data[feature_cols]\n",
    "y = train_data['DC_POWER']\n"
   ]
  },
  {
   "cell_type": "code",
   "execution_count": 53,
   "id": "b3ad76da",
   "metadata": {},
   "outputs": [
    {
     "name": "stdout",
     "output_type": "stream",
     "text": [
      "\n",
      "Clean Model Performance (daylight only):\n",
      "Mean Squared Error: 33696739.65\n",
      "R2 Score: 0.9950\n"
     ]
    }
   ],
   "source": [
    "# Train-test split and model training (simple and robust)\n",
    "X_train, X_test, y_train, y_test = train_test_split(\n",
    "    X, y, test_size=0.2, random_state=42\n",
    ")\n",
    "\n",
    "model = RandomForestRegressor(n_estimators=200, random_state=42, n_jobs=-1)\n",
    "model.fit(X_train, y_train)\n",
    "\n",
    "y_pred = model.predict(X_test)\n",
    "\n",
    "mse = mean_squared_error(y_test, y_pred)\n",
    "r2 = r2_score(y_test, y_pred)\n",
    "print(\"\\nClean Model Performance (daylight only):\")\n",
    "print(f\"Mean Squared Error: {mse:.2f}\")\n",
    "print(f\"R2 Score: {r2:.4f}\")\n"
   ]
  },
  {
   "cell_type": "code",
   "execution_count": 54,
   "id": "a9e09bcc",
   "metadata": {},
   "outputs": [
    {
     "name": "stdout",
     "output_type": "stream",
     "text": [
      "Model saved to dc_power_model_daylight.joblib\n"
     ]
    }
   ],
   "source": [
    "# Save the cleaned model\n",
    "from joblib import dump\n",
    "with open('dc_power_model_daylight.joblib', 'wb') as f:\n",
    "    dump(model, f)\n",
    "print(\"Model saved to dc_power_model_daylight.joblib\")\n"
   ]
  },
  {
   "cell_type": "code",
   "execution_count": null,
   "id": "ab678b2b",
   "metadata": {},
   "outputs": [],
   "source": []
  }
 ],
 "metadata": {
  "kernelspec": {
   "display_name": "base",
   "language": "python",
   "name": "python3"
  },
  "language_info": {
   "codemirror_mode": {
    "name": "ipython",
    "version": 3
   },
   "file_extension": ".py",
   "mimetype": "text/x-python",
   "name": "python",
   "nbconvert_exporter": "python",
   "pygments_lexer": "ipython3",
   "version": "3.12.9"
  }
 },
 "nbformat": 4,
 "nbformat_minor": 5
}
